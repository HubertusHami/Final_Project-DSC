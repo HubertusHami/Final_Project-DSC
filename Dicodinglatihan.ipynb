{
  "nbformat": 4,
  "nbformat_minor": 0,
  "metadata": {
    "colab": {
      "name": "Dicodinglatihan.ipynb",
      "provenance": [],
      "authorship_tag": "ABX9TyPmGwZEzchJQQQ6XDAVGGWW",
      "include_colab_link": true
    },
    "kernelspec": {
      "name": "python3",
      "display_name": "Python 3"
    },
    "language_info": {
      "name": "python"
    }
  },
  "cells": [
    {
      "cell_type": "markdown",
      "metadata": {
        "id": "view-in-github",
        "colab_type": "text"
      },
      "source": [
        "<a href=\"https://colab.research.google.com/github/HubertusHami/Final_Project-DSC/blob/main/Dicodinglatihan.ipynb\" target=\"_parent\"><img src=\"https://colab.research.google.com/assets/colab-badge.svg\" alt=\"Open In Colab\"/></a>"
      ]
    },
    {
      "cell_type": "code",
      "execution_count": 3,
      "metadata": {
        "id": "o9vuKBIc_l14"
      },
      "outputs": [],
      "source": [
        "import pandas as pd"
      ]
    },
    {
      "cell_type": "code",
      "source": [
        "import os"
      ],
      "metadata": {
        "id": "9_09FJNr__W5"
      },
      "execution_count": 5,
      "outputs": []
    },
    {
      "cell_type": "code",
      "source": [
        ""
      ],
      "metadata": {
        "id": "rgn0H6ilAhtU"
      },
      "execution_count": 33,
      "outputs": []
    },
    {
      "cell_type": "code",
      "source": [
        "from sklearn.preprocessing import MinMaxScaler"
      ],
      "metadata": {
        "id": "i_gtPfsoBQmo"
      },
      "execution_count": 8,
      "outputs": []
    },
    {
      "cell_type": "code",
      "source": [
        "data=[[12000000, 33],[350000000, 45],[4000000, 23],[6500000, 26],[9000000, 29]]"
      ],
      "metadata": {
        "id": "WG8zvWV9ENRZ"
      },
      "execution_count": 9,
      "outputs": []
    },
    {
      "cell_type": "code",
      "source": [
        "scaler=MinMaxScaler()"
      ],
      "metadata": {
        "id": "xs-Q9vixESrh"
      },
      "execution_count": 10,
      "outputs": []
    },
    {
      "cell_type": "code",
      "source": [
        "scaler.fit(data)"
      ],
      "metadata": {
        "colab": {
          "base_uri": "https://localhost:8080/"
        },
        "id": "xnzg7JtqEZDT",
        "outputId": "c6af7d56-eec1-4c19-a089-a7dd5e40b24a"
      },
      "execution_count": 11,
      "outputs": [
        {
          "output_type": "execute_result",
          "data": {
            "text/plain": [
              "MinMaxScaler()"
            ]
          },
          "metadata": {},
          "execution_count": 11
        }
      ]
    },
    {
      "cell_type": "code",
      "source": [
        "print(scaler.transform(data))"
      ],
      "metadata": {
        "colab": {
          "base_uri": "https://localhost:8080/"
        },
        "id": "C9lt7i9EEcmL",
        "outputId": "d49c6dd6-4248-4d88-91b1-89e93080844e"
      },
      "execution_count": 12,
      "outputs": [
        {
          "output_type": "stream",
          "name": "stdout",
          "text": [
            "[[0.02312139 0.45454545]\n",
            " [1.         1.        ]\n",
            " [0.         0.        ]\n",
            " [0.00722543 0.13636364]\n",
            " [0.01445087 0.27272727]]\n"
          ]
        }
      ]
    },
    {
      "cell_type": "code",
      "source": [
        "from sklearn import preprocessing"
      ],
      "metadata": {
        "id": "1RAHjsJQElJa"
      },
      "execution_count": 13,
      "outputs": []
    },
    {
      "cell_type": "code",
      "source": [
        "data=[[12000000, 33],[350000000, 45],[4000000, 23],[6500000, 26],[9000000, 29]]"
      ],
      "metadata": {
        "id": "5mXaS2XoEuq2"
      },
      "execution_count": 14,
      "outputs": []
    },
    {
      "cell_type": "code",
      "source": [
        "scaler=preprocessing.StandardScaler().fit(data)"
      ],
      "metadata": {
        "id": "mfIccD1YEzoA"
      },
      "execution_count": 15,
      "outputs": []
    },
    {
      "cell_type": "code",
      "source": [
        "data=scaler.transform(data)"
      ],
      "metadata": {
        "id": "0_ssYRzzFEnQ"
      },
      "execution_count": 16,
      "outputs": []
    },
    {
      "cell_type": "code",
      "source": [
        "data"
      ],
      "metadata": {
        "colab": {
          "base_uri": "https://localhost:8080/"
        },
        "id": "j9iZOCz5FLqB",
        "outputId": "5a7ac570-c764-4406-852b-462050210d4d"
      },
      "execution_count": 17,
      "outputs": [
        {
          "output_type": "execute_result",
          "data": {
            "text/plain": [
              "array([[-0.46976925,  0.23521877],\n",
              "       [ 1.99962433,  1.80334389],\n",
              "       [-0.52821644, -1.07155217],\n",
              "       [-0.50995169, -0.67952089],\n",
              "       [-0.49168695, -0.28748961]])"
            ]
          },
          "metadata": {},
          "execution_count": 17
        }
      ]
    },
    {
      "cell_type": "code",
      "source": [
        "from sklearn.model_selection import train_test_split"
      ],
      "metadata": {
        "id": "I3Jdbm1cFM4C"
      },
      "execution_count": 18,
      "outputs": []
    },
    {
      "cell_type": "code",
      "source": [
        "X_data=range(10)\n",
        "Y_data=range(10)"
      ],
      "metadata": {
        "id": "4us9grrwHHGP"
      },
      "execution_count": 19,
      "outputs": []
    },
    {
      "cell_type": "code",
      "source": [
        "print(\"random_state ditentukan\")\n",
        "for i in range(3):\n",
        "  X_train,X_test,Y_train,Y_test=train_test_split(X_data,Y_data, test_size=0.3, random_state=42)\n",
        "  print(Y_test)"
      ],
      "metadata": {
        "colab": {
          "base_uri": "https://localhost:8080/"
        },
        "id": "Prw-j8Y5HNpc",
        "outputId": "f797b4b6-4c2e-4eee-e87d-16afb6b70ddf"
      },
      "execution_count": 20,
      "outputs": [
        {
          "output_type": "stream",
          "name": "stdout",
          "text": [
            "random_state ditentukan\n",
            "[8, 1, 5]\n",
            "[8, 1, 5]\n",
            "[8, 1, 5]\n"
          ]
        }
      ]
    },
    {
      "cell_type": "code",
      "source": [
        "print(\"random_state tidak ditentukan\")\n",
        "for i in range(3):\n",
        "  X_train, X_test, Y_train, Y_test=train_test_split(X_data, Y_data, test_size=0.3, random_state=None)\n",
        "  print(Y_test)"
      ],
      "metadata": {
        "colab": {
          "base_uri": "https://localhost:8080/"
        },
        "id": "CEiAINiCICjZ",
        "outputId": "7c15e1d4-d744-4725-f43d-3d136570508c"
      },
      "execution_count": 21,
      "outputs": [
        {
          "output_type": "stream",
          "name": "stdout",
          "text": [
            "random_state tidak ditentukan\n",
            "[0, 3, 9]\n",
            "[6, 8, 9]\n",
            "[7, 4, 8]\n"
          ]
        }
      ]
    },
    {
      "cell_type": "code",
      "source": [
        "#Latihan SKlean Train Test Split"
      ],
      "metadata": {
        "id": "cr4pkAETIqFj"
      },
      "execution_count": 22,
      "outputs": []
    },
    {
      "cell_type": "code",
      "source": [
        ""
      ],
      "metadata": {
        "id": "0cSfDOcPMeuA"
      },
      "execution_count": null,
      "outputs": []
    },
    {
      "cell_type": "code",
      "source": [
        "import sklearn\n",
        "from sklearn import datasets"
      ],
      "metadata": {
        "id": "0sHtQWOrI7fL"
      },
      "execution_count": 23,
      "outputs": []
    },
    {
      "cell_type": "code",
      "source": [
        "iris=datasets.load_iris()"
      ],
      "metadata": {
        "id": "VC8o5GdVJHmM"
      },
      "execution_count": 24,
      "outputs": []
    },
    {
      "cell_type": "code",
      "source": [
        "#Memisahkan atribut dan label pada iris dataset\n",
        "x=iris.data\n",
        "y=iris.target "
      ],
      "metadata": {
        "id": "M2XgvQRfJQP4"
      },
      "execution_count": 25,
      "outputs": []
    },
    {
      "cell_type": "code",
      "source": [
        "from sklearn.model_selection import train_test_split"
      ],
      "metadata": {
        "id": "j1HJFOraJkVy"
      },
      "execution_count": 26,
      "outputs": []
    },
    {
      "cell_type": "code",
      "source": [
        "#Membagi dataset ke dalam data train dan testing\n",
        "x_train, x_test, y_train,y_test=train_test_split(x,y,test_size=0.2,random_state=1)"
      ],
      "metadata": {
        "id": "pbu4DOXaJt4i"
      },
      "execution_count": 27,
      "outputs": []
    },
    {
      "cell_type": "code",
      "source": [
        "#Menghitung panjang atau jumlah data\n",
        "len(x_test)"
      ],
      "metadata": {
        "colab": {
          "base_uri": "https://localhost:8080/"
        },
        "id": "quVZ7RHDKBqQ",
        "outputId": "dfda6c6d-9b82-48f3-cbac-c1e45c70c19d"
      },
      "execution_count": 28,
      "outputs": [
        {
          "output_type": "execute_result",
          "data": {
            "text/plain": [
              "30"
            ]
          },
          "metadata": {},
          "execution_count": 28
        }
      ]
    },
    {
      "cell_type": "code",
      "source": [
        "from sklearn import tree"
      ],
      "metadata": {
        "id": "JrQAeIpVKMh7"
      },
      "execution_count": 29,
      "outputs": []
    },
    {
      "cell_type": "code",
      "source": [
        "#membuat model dengan tree classifier\n",
        "clf=tree.DecisionTreeClassifier()"
      ],
      "metadata": {
        "id": "AspbTM8LLTQg"
      },
      "execution_count": 30,
      "outputs": []
    },
    {
      "cell_type": "code",
      "source": [
        "from sklearn.model_selection import cross_val_score\n"
      ],
      "metadata": {
        "id": "hiWEJUAOLhxC"
      },
      "execution_count": 31,
      "outputs": []
    },
    {
      "cell_type": "code",
      "source": [
        "#melakukan evaluasi model dengan cross_val_score\n",
        "scores=cross_val_score(clf, x, y, cv=5)"
      ],
      "metadata": {
        "id": "zKj80yoeLvME"
      },
      "execution_count": 32,
      "outputs": []
    },
    {
      "cell_type": "code",
      "source": [
        "scores"
      ],
      "metadata": {
        "colab": {
          "base_uri": "https://localhost:8080/"
        },
        "id": "eOUgpPpyL_EU",
        "outputId": "6ee7ca72-bc83-47c4-9dbc-51c0f5c87345"
      },
      "execution_count": 33,
      "outputs": [
        {
          "output_type": "execute_result",
          "data": {
            "text/plain": [
              "array([0.96666667, 0.96666667, 0.9       , 0.96666667, 1.        ])"
            ]
          },
          "metadata": {},
          "execution_count": 33
        }
      ]
    },
    {
      "cell_type": "code",
      "source": [
        ""
      ],
      "metadata": {
        "id": "cnrvY40IMBin"
      },
      "execution_count": null,
      "outputs": []
    }
  ]
}