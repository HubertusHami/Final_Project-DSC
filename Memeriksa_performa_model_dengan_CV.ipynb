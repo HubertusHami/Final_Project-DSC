{
  "nbformat": 4,
  "nbformat_minor": 0,
  "metadata": {
    "colab": {
      "provenance": [],
      "authorship_tag": "ABX9TyM+KkAVi00FLCmT/1fZCx4C",
      "include_colab_link": true
    },
    "kernelspec": {
      "name": "python3",
      "display_name": "Python 3"
    },
    "language_info": {
      "name": "python"
    }
  },
  "cells": [
    {
      "cell_type": "markdown",
      "metadata": {
        "id": "view-in-github",
        "colab_type": "text"
      },
      "source": [
        "<a href=\"https://colab.research.google.com/github/HubertusHami/Final_Project-DSC/blob/main/Memeriksa_performa_model_dengan_CV.ipynb\" target=\"_parent\"><img src=\"https://colab.research.google.com/assets/colab-badge.svg\" alt=\"Open In Colab\"/></a>"
      ]
    },
    {
      "cell_type": "code",
      "execution_count": 1,
      "metadata": {
        "id": "7xn1Cn0kaG5V"
      },
      "outputs": [],
      "source": [
        "import sklearn\n",
        "from sklearn import datasets"
      ]
    },
    {
      "cell_type": "code",
      "source": [
        "#load iris dataset\n",
        "iris=datasets.load_iris()"
      ],
      "metadata": {
        "id": "Jk0cvX6naPWq"
      },
      "execution_count": 2,
      "outputs": []
    },
    {
      "cell_type": "code",
      "source": [
        "#membagi  atirubut x dan y\n",
        "x=iris.data\n",
        "y=iris.target"
      ],
      "metadata": {
        "id": "O9r9x4XkahYS"
      },
      "execution_count": 3,
      "outputs": []
    },
    {
      "cell_type": "code",
      "source": [
        "#membuat model machine learning decision tree dengan library scikit learn\n",
        "from sklearn import tree\n",
        "\n",
        "clf=tree.DecisionTreeClassifier() "
      ],
      "metadata": {
        "id": "Xs9IH361asuN"
      },
      "execution_count": 5,
      "outputs": []
    },
    {
      "cell_type": "code",
      "source": [
        "#mengecek cross validation untuk mengevaluasi performa dari model \n",
        "from sklearn.model_selection import cross_val_score"
      ],
      "metadata": {
        "id": "JdVPd1mjbAOT"
      },
      "execution_count": 6,
      "outputs": []
    },
    {
      "cell_type": "code",
      "source": [
        "#melakukan evaluasi dengan cross_val_score\n",
        "scores=cross_val_score(clf, x, y, cv=5)"
      ],
      "metadata": {
        "id": "TYkYqaJfboF6"
      },
      "execution_count": 7,
      "outputs": []
    },
    {
      "cell_type": "code",
      "source": [
        "scores"
      ],
      "metadata": {
        "colab": {
          "base_uri": "https://localhost:8080/"
        },
        "id": "evvKMk9Kb0-G",
        "outputId": "c3951882-684a-40be-ca3c-1766fc4e5297"
      },
      "execution_count": 8,
      "outputs": [
        {
          "output_type": "execute_result",
          "data": {
            "text/plain": [
              "array([0.96666667, 0.96666667, 0.9       , 0.96666667, 1.        ])"
            ]
          },
          "metadata": {},
          "execution_count": 8
        }
      ]
    },
    {
      "cell_type": "code",
      "source": [
        "#elemen pertama dari larik sebesar 0.96666667  menunjukkan \n",
        "#bahwa apabila first fold dijadikan sebagai validation set dan fold lainnya dijadikan train set ,maka akurasi set tersbeut sebesar 0.96666667  "
      ],
      "metadata": {
        "id": "M4UR5z-9b5vn"
      },
      "execution_count": 11,
      "outputs": []
    },
    {
      "cell_type": "code",
      "source": [
        "#dengan melihat akurasi dari kelima fold di atas yang memiliki nilai tinggi dan konsisten untuk setiap fold, maka \n",
        "#dapat disimpulkan bahwa model yang kita miliki performa yang baik"
      ],
      "metadata": {
        "id": "9s5pyTQjcbwq"
      },
      "execution_count": 12,
      "outputs": []
    },
    {
      "cell_type": "code",
      "source": [],
      "metadata": {
        "id": "MYgoBzvTc4ps"
      },
      "execution_count": null,
      "outputs": []
    }
  ]
}